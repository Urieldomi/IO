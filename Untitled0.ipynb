{
  "nbformat": 4,
  "nbformat_minor": 0,
  "metadata": {
    "colab": {
      "name": "Untitled0.ipynb",
      "provenance": [],
      "authorship_tag": "ABX9TyPuAdVy+9JEfaNIWI8ktx8C",
      "include_colab_link": true
    },
    "kernelspec": {
      "name": "python3",
      "display_name": "Python 3"
    },
    "language_info": {
      "name": "python"
    }
  },
  "cells": [
    {
      "cell_type": "markdown",
      "metadata": {
        "id": "view-in-github",
        "colab_type": "text"
      },
      "source": [
        "<a href=\"https://colab.research.google.com/github/Urieldomi/IO/blob/main/Untitled0.ipynb\" target=\"_parent\"><img src=\"https://colab.research.google.com/assets/colab-badge.svg\" alt=\"Open In Colab\"/></a>"
      ]
    },
    {
      "cell_type": "code",
      "execution_count": null,
      "metadata": {
        "id": "_qanxIqvK9QN"
      },
      "outputs": [],
      "source": [
        "import numpy as np\n",
        "from scipy.optimize import linprog\n",
        "\n",
        "#Problema de transportee\n",
        "#Vamos a minimizar \n",
        "#Matriz de equidades \n",
        "print(\"Problema 1 \\n\")\n",
        "A = np.array([[-12,-9,-25,-20,-17,-13],\n",
        "              [-35,-42,-18,-31,-56,-49],\n",
        "              [-37,-53,-28,-24,-29,-20],\n",
        "              [  1,  0,  0,  0,  0,  0],\n",
        "              [  0,  1,  0,  0,  0,  0],\n",
        "              [  0,  0,  1,  0,  0,  0],\n",
        "              [  0,  0,  0,  1,  0,  0],\n",
        "              [  0,  0,  0,  0,  1,  0],\n",
        "              [  0,  0,  0,  0,  0,  1],\n",
        "              ])                        \n",
        "#Arreglo de coeficientes de restricciones (para mayor o igual, *-1)\n",
        "\n",
        "b = np.array([-60,-150,-125,1,1,1,1,1,1])                            #Arreglo de resultados de restricciones\n",
        "\n",
        "c = np.array([8,10,7,6,11,9])                             #Arreglo de coeficientes de z\n",
        " \n",
        "res = linprog(c, A_ub=A, b_ub=b,  bounds=(0, None), method='simplex') #El +c es pa minimizar\n",
        "print('Z óptimo:', \"{:.2f}\".format(res.fun)) #El valor optimo en este caso es un mínimo\n",
        "for i in range(0,len(c)):\n",
        "  print('x_',i+1,\"=\",\"{:.2f}\".format(res.x[i]),'\\n')\n",
        "  "
      ]
    }
  ]
}